{
 "cells": [
  {
   "cell_type": "code",
   "execution_count": 2,
   "id": "76903e32",
   "metadata": {},
   "outputs": [],
   "source": [
    "import meeting"
   ]
  },
  {
   "cell_type": "markdown",
   "id": "a41bc013",
   "metadata": {},
   "source": [
    "## Test to see the current state of the database"
   ]
  },
  {
   "cell_type": "code",
   "execution_count": 3,
   "id": "52752060",
   "metadata": {
    "scrolled": true
   },
   "outputs": [
    {
     "data": {
      "text/plain": [
       "OrderedDict([('Alex Renda', ['renda+cmt@mit.edu', 'renda+zoom@mit.edu']),\n",
       "             ('Not Alex Renda',\n",
       "              ['renda+cmt@csail.mit.edu', 'renda+zoom@csail.mit.edu']),\n",
       "             ('Conflict Manager', ['conflict-manager@example.com'])])"
      ]
     },
     "execution_count": 3,
     "metadata": {},
     "output_type": "execute_result"
    }
   ],
   "source": [
    "meeting.read_reviewer_name_to_emails()"
   ]
  },
  {
   "cell_type": "markdown",
   "id": "286638c3",
   "metadata": {},
   "source": [
    "## Add a mapping to the reviewer email database"
   ]
  },
  {
   "cell_type": "code",
   "execution_count": 6,
   "id": "9112ab17",
   "metadata": {},
   "outputs": [],
   "source": [
    "meeting.append_reviewer_email('Alex Renda', 'renda+has-another-zoom-email@mit.edu')"
   ]
  },
  {
   "cell_type": "markdown",
   "id": "79757835",
   "metadata": {},
   "source": [
    "## Test to see the current state of the database"
   ]
  },
  {
   "cell_type": "code",
   "execution_count": 9,
   "id": "44beef70",
   "metadata": {},
   "outputs": [
    {
     "name": "stdout",
     "output_type": "stream",
     "text": [
      "CONFLICTED: Not Alex Renda (['renda+cmt@csail.mit.edu', 'renda+zoom@csail.mit.edu'])\n",
      "CONFLICTED: Alex Renda (['renda+cmt@mit.edu', 'renda+zoom@mit.edu'])\n",
      "Wrote 4 lines to zoom_rooms.csv\n"
     ]
    }
   ],
   "source": [
    "meeting.write_conflict_assignment_of_paper(1)"
   ]
  },
  {
   "cell_type": "markdown",
   "id": "40ebefeb",
   "metadata": {},
   "source": [
    "## Test writing everyone to a zoom breakout room\n",
    "\n",
    "If you load this breakout room, then everyone who is *not* assigned to it does not have their email set up correctly in the database"
   ]
  },
  {
   "cell_type": "code",
   "execution_count": 8,
   "id": "7e8dc5a7",
   "metadata": {},
   "outputs": [
    {
     "name": "stdout",
     "output_type": "stream",
     "text": [
      "Wrote 4 lines to zoom_rooms.csv\n"
     ]
    }
   ],
   "source": [
    "meeting.assign_everyone_to_breakout_room()"
   ]
  }
 ],
 "metadata": {
  "kernelspec": {
   "display_name": "Python 3 (ipykernel)",
   "language": "python",
   "name": "python3"
  },
  "language_info": {
   "codemirror_mode": {
    "name": "ipython",
    "version": 3
   },
   "file_extension": ".py",
   "mimetype": "text/x-python",
   "name": "python",
   "nbconvert_exporter": "python",
   "pygments_lexer": "ipython3",
   "version": "3.9.16"
  }
 },
 "nbformat": 4,
 "nbformat_minor": 5
}
